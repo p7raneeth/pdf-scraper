{
 "cells": [
  {
   "cell_type": "code",
   "execution_count": null,
   "metadata": {},
   "outputs": [],
   "source": [
    "LogisticRegression = 'a'\n",
    "KNeighborsClassifier = 'b'\n",
    "SVC = 'c'\n",
    "DecisionTreeClassifier = 'd'"
   ]
  },
  {
   "cell_type": "code",
   "execution_count": null,
   "metadata": {},
   "outputs": [],
   "source": [
    "classifiers = {\n",
    "    \"LogisiticRegression\": LogisticRegression,\n",
    "    \"KNearest\": KNeighborsClassifier,\n",
    "    \"Support Vector Classifier\": SVC,\n",
    "    \"DecisionTreeClassifier\": DecisionTreeClassifier\n",
    "}"
   ]
  },
  {
   "cell_type": "code",
   "execution_count": null,
   "metadata": {},
   "outputs": [],
   "source": [
    "for key, classifier in classifiers.items():\n",
    "    print(key, classifier)"
   ]
  },
  {
   "cell_type": "code",
   "execution_count": null,
   "metadata": {},
   "outputs": [],
   "source": [
    "%reset"
   ]
  },
  {
   "cell_type": "code",
   "execution_count": null,
   "metadata": {},
   "outputs": [],
   "source": [
    "lst = ['A|B', 'D|E|F', 'G|H', 'I']"
   ]
  },
  {
   "cell_type": "code",
   "execution_count": null,
   "metadata": {},
   "outputs": [],
   "source": [
    "import pandas as pd"
   ]
  },
  {
   "cell_type": "code",
   "execution_count": null,
   "metadata": {},
   "outputs": [],
   "source": [
    "Msg_Type = ['MSG', 'DB', 'DB', 'MSG', 'DB', 'DB', 'DB','MSG', 'DB', 'DB', 'MSG', 'DB']\n",
    "Data = [None, 'A', 'B', None, 'D', 'E', 'F', None, 'G', 'H', None, 'I']\n",
    "df = pd.DataFrame(zip(Msg_Type, Data), columns = ['Msg_type', 'Data'])"
   ]
  },
  {
   "cell_type": "code",
   "execution_count": null,
   "metadata": {},
   "outputs": [],
   "source": [
    "df"
   ]
  },
  {
   "cell_type": "code",
   "execution_count": null,
   "metadata": {},
   "outputs": [],
   "source": [
    "df1 = df[df['Msg_type']=='MSG']"
   ]
  },
  {
   "cell_type": "code",
   "execution_count": null,
   "metadata": {},
   "outputs": [],
   "source": [
    "df1.insert(loc=0, column='Trans_Col1', value=lst)"
   ]
  },
  {
   "cell_type": "code",
   "execution_count": null,
   "metadata": {},
   "outputs": [],
   "source": [
    "df1"
   ]
  },
  {
   "cell_type": "code",
   "execution_count": null,
   "metadata": {},
   "outputs": [],
   "source": [
    "grp = (df.assign(col3=(df['Msg_type']=='MSG').cumsum())\n",
    "         .query(\"Msg_type == 'DB'\")\n",
    "         .groupby('col3')['Data'].agg('|'.join))"
   ]
  },
  {
   "cell_type": "code",
   "execution_count": null,
   "metadata": {},
   "outputs": [],
   "source": [
    "df.loc[df['Msg_type']=='MSG', 'Col3'] = grp.values"
   ]
  },
  {
   "cell_type": "code",
   "execution_count": null,
   "metadata": {},
   "outputs": [],
   "source": [
    "df.loc[df['Msg_type']=='MSG', 'result'] = df.assign(col3=(df['Msg_type']=='MSG').cumsum()).query(\"Msg_type == 'DB'\").groupby('col3')['Data'].agg('|'.join) .values  \n",
    "        \n",
    "        "
   ]
  },
  {
   "cell_type": "code",
   "execution_count": null,
   "metadata": {},
   "outputs": [],
   "source": [
    "df[df['Msg_type'] == 'MSG']"
   ]
  },
  {
   "cell_type": "code",
   "execution_count": null,
   "metadata": {},
   "outputs": [],
   "source": [
    "import pandas as pd\n",
    "import numpy as np"
   ]
  },
  {
   "cell_type": "code",
   "execution_count": 7,
   "metadata": {},
   "outputs": [],
   "source": [
    "import pandas as pd\n",
    "df = pd.read_csv(r'C:/Users/prane/OneDrive/Desktop/local_rep/Datasets/A350PFR.csv')\n",
    "df[['target_col']] = df[['target_col']].apply(pd.to_datetime)"
   ]
  },
  {
   "cell_type": "code",
   "execution_count": 8,
   "metadata": {},
   "outputs": [
    {
     "data": {
      "text/plain": [
       "[array(['2019-10-23T16:14:00.000000000', '2019-10-24T16:14:00.000000000'],\n",
       "       dtype='datetime64[ns]'),\n",
       " array(['2019-10-25T16:14:00.000000000'], dtype='datetime64[ns]'),\n",
       " array(['2019-10-25T16:14:00.000000000'], dtype='datetime64[ns]'),\n",
       " array(['2019-10-20T16:14:00.000000000', '2019-10-21T16:14:00.000000000',\n",
       "        '2019-10-22T16:14:00.000000000'], dtype='datetime64[ns]'),\n",
       " array(['2019-10-26T16:14:00.000000000'], dtype='datetime64[ns]')]"
      ]
     },
     "execution_count": 8,
     "metadata": {},
     "output_type": "execute_result"
    }
   ],
   "source": [
    "lst = []\n",
    "for val in df.corr_flt_msg_id[df['msg_type'] == 'nfde']:\n",
    "    lst.append(df[df.int_flt_id ==int(val.split('|')[-1].strip())]['target_col'].values)\n",
    "lst"
   ]
  },
  {
   "cell_type": "code",
   "execution_count": 9,
   "metadata": {},
   "outputs": [],
   "source": [
    "updated_list = []\n",
    "for val in lst:\n",
    "    updated_list.append(max(val))\n",
    "val = len(df[df.msg_type == 'nfde'])\n",
    "for i in range(val):\n",
    "    df.loc[i, 'target_col'] = updated_list[i]"
   ]
  },
  {
   "cell_type": "code",
   "execution_count": 10,
   "metadata": {},
   "outputs": [
    {
     "data": {
      "text/html": [
       "<div>\n",
       "<style scoped>\n",
       "    .dataframe tbody tr th:only-of-type {\n",
       "        vertical-align: middle;\n",
       "    }\n",
       "\n",
       "    .dataframe tbody tr th {\n",
       "        vertical-align: top;\n",
       "    }\n",
       "\n",
       "    .dataframe thead th {\n",
       "        text-align: right;\n",
       "    }\n",
       "</style>\n",
       "<table border=\"1\" class=\"dataframe\">\n",
       "  <thead>\n",
       "    <tr style=\"text-align: right;\">\n",
       "      <th></th>\n",
       "      <th>corr_flt_msg_id</th>\n",
       "      <th>msg_type</th>\n",
       "      <th>int_flt_id</th>\n",
       "      <th>target_col</th>\n",
       "    </tr>\n",
       "  </thead>\n",
       "  <tbody>\n",
       "    <tr>\n",
       "      <th>0</th>\n",
       "      <td>1 | 2</td>\n",
       "      <td>nfde</td>\n",
       "      <td>NaN</td>\n",
       "      <td>2019-10-24 16:14:00</td>\n",
       "    </tr>\n",
       "    <tr>\n",
       "      <th>1</th>\n",
       "      <td>2 | 3</td>\n",
       "      <td>nfde</td>\n",
       "      <td>NaN</td>\n",
       "      <td>2019-10-25 16:14:00</td>\n",
       "    </tr>\n",
       "    <tr>\n",
       "      <th>2</th>\n",
       "      <td>3</td>\n",
       "      <td>nfde</td>\n",
       "      <td>NaN</td>\n",
       "      <td>2019-10-25 16:14:00</td>\n",
       "    </tr>\n",
       "    <tr>\n",
       "      <th>3</th>\n",
       "      <td>1</td>\n",
       "      <td>nfde</td>\n",
       "      <td>NaN</td>\n",
       "      <td>2019-10-22 16:14:00</td>\n",
       "    </tr>\n",
       "    <tr>\n",
       "      <th>4</th>\n",
       "      <td>4</td>\n",
       "      <td>nfde</td>\n",
       "      <td>NaN</td>\n",
       "      <td>2019-10-26 16:14:00</td>\n",
       "    </tr>\n",
       "    <tr>\n",
       "      <th>5</th>\n",
       "      <td>NaN</td>\n",
       "      <td>mm</td>\n",
       "      <td>1.0</td>\n",
       "      <td>2019-10-20 16:14:00</td>\n",
       "    </tr>\n",
       "    <tr>\n",
       "      <th>6</th>\n",
       "      <td>NaN</td>\n",
       "      <td>mm</td>\n",
       "      <td>1.0</td>\n",
       "      <td>2019-10-21 16:14:00</td>\n",
       "    </tr>\n",
       "    <tr>\n",
       "      <th>7</th>\n",
       "      <td>NaN</td>\n",
       "      <td>mm</td>\n",
       "      <td>1.0</td>\n",
       "      <td>2019-10-22 16:14:00</td>\n",
       "    </tr>\n",
       "    <tr>\n",
       "      <th>8</th>\n",
       "      <td>NaN</td>\n",
       "      <td>mm</td>\n",
       "      <td>2.0</td>\n",
       "      <td>2019-10-23 16:14:00</td>\n",
       "    </tr>\n",
       "    <tr>\n",
       "      <th>9</th>\n",
       "      <td>NaN</td>\n",
       "      <td>mm</td>\n",
       "      <td>2.0</td>\n",
       "      <td>2019-10-24 16:14:00</td>\n",
       "    </tr>\n",
       "    <tr>\n",
       "      <th>10</th>\n",
       "      <td>NaN</td>\n",
       "      <td>mm</td>\n",
       "      <td>3.0</td>\n",
       "      <td>2019-10-25 16:14:00</td>\n",
       "    </tr>\n",
       "    <tr>\n",
       "      <th>11</th>\n",
       "      <td>NaN</td>\n",
       "      <td>mm</td>\n",
       "      <td>4.0</td>\n",
       "      <td>2019-10-26 16:14:00</td>\n",
       "    </tr>\n",
       "  </tbody>\n",
       "</table>\n",
       "</div>"
      ],
      "text/plain": [
       "   corr_flt_msg_id msg_type  int_flt_id          target_col\n",
       "0            1 | 2     nfde         NaN 2019-10-24 16:14:00\n",
       "1            2 | 3     nfde         NaN 2019-10-25 16:14:00\n",
       "2                3     nfde         NaN 2019-10-25 16:14:00\n",
       "3                1     nfde         NaN 2019-10-22 16:14:00\n",
       "4                4     nfde         NaN 2019-10-26 16:14:00\n",
       "5              NaN       mm         1.0 2019-10-20 16:14:00\n",
       "6              NaN       mm         1.0 2019-10-21 16:14:00\n",
       "7              NaN       mm         1.0 2019-10-22 16:14:00\n",
       "8              NaN       mm         2.0 2019-10-23 16:14:00\n",
       "9              NaN       mm         2.0 2019-10-24 16:14:00\n",
       "10             NaN       mm         3.0 2019-10-25 16:14:00\n",
       "11             NaN       mm         4.0 2019-10-26 16:14:00"
      ]
     },
     "execution_count": 10,
     "metadata": {},
     "output_type": "execute_result"
    }
   ],
   "source": [
    "df"
   ]
  },
  {
   "cell_type": "code",
   "execution_count": null,
   "metadata": {},
   "outputs": [],
   "source": [
    "lst"
   ]
  },
  {
   "cell_type": "code",
   "execution_count": null,
   "metadata": {},
   "outputs": [],
   "source": []
  },
  {
   "cell_type": "code",
   "execution_count": null,
   "metadata": {},
   "outputs": [],
   "source": []
  }
 ],
 "metadata": {
  "kernelspec": {
   "display_name": "Python 3",
   "language": "python",
   "name": "python3"
  },
  "language_info": {
   "codemirror_mode": {
    "name": "ipython",
    "version": 3
   },
   "file_extension": ".py",
   "mimetype": "text/x-python",
   "name": "python",
   "nbconvert_exporter": "python",
   "pygments_lexer": "ipython3",
   "version": "3.7.3"
  }
 },
 "nbformat": 4,
 "nbformat_minor": 2
}
